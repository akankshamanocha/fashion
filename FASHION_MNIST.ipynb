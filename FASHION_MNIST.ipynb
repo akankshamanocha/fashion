{
 "cells": [
  {
   "cell_type": "code",
   "execution_count": 1,
   "metadata": {
    "collapsed": true
   },
   "outputs": [],
   "source": [
    "import tensorflow as tf\n",
    "import matplotlib.pyplot as plt\n",
    "from tensorflow.python.keras.models import Sequential\n",
    "from tensorflow.python.keras.layers import Dense, Dropout, Activation, Conv2D , Flatten , MaxPooling2D\n",
    "import numpy as np\n",
    "import pandas as pd"
   ]
  },
  {
   "cell_type": "code",
   "execution_count": 3,
   "metadata": {
    "collapsed": true
   },
   "outputs": [],
   "source": [
    "train=pd.read_csv('fashion-mnist_train.csv')\n",
    "test=pd.read_csv('fashion-mnist_test.csv')"
   ]
  },
  {
   "cell_type": "code",
   "execution_count": 27,
   "metadata": {},
   "outputs": [],
   "source": [
    "train_data=np.array(train,dtype='float32')\n",
    "test_data=np.array(test,dtype='float32')"
   ]
  },
  {
   "cell_type": "code",
   "execution_count": 58,
   "metadata": {},
   "outputs": [],
   "source": [
    "X_train=train_data[:,1:]\n",
    "y_train=train_data[:,0]\n",
    "X_test=test_data[:,1:]\n",
    "y_test=test_data[:,0]"
   ]
  },
  {
   "cell_type": "code",
   "execution_count": 59,
   "metadata": {
    "collapsed": true
   },
   "outputs": [],
   "source": [
    "X_train=X_train/255\n",
    "X_test=X_test/255"
   ]
  },
  {
   "cell_type": "code",
   "execution_count": 60,
   "metadata": {},
   "outputs": [
    {
     "data": {
      "text/plain": [
       "array([2., 9., 6., ..., 8., 8., 7.], dtype=float32)"
      ]
     },
     "execution_count": 60,
     "metadata": {},
     "output_type": "execute_result"
    }
   ],
   "source": [
    "y_train"
   ]
  },
  {
   "cell_type": "code",
   "execution_count": 61,
   "metadata": {},
   "outputs": [
    {
     "data": {
      "image/png": "[encoded data removed]",
      "text/plain": [
       "<matplotlib.figure.Figure at 0x2268068fac8>"
      ]
     },
     "metadata": {},
     "output_type": "display_data"
    }
   ],
   "source": [
    "plt.imshow(X_train[100,:].reshape(28,28))\n",
    "plt.show()"
   ]
  },
  {
   "cell_type": "code",
   "execution_count": 62,
   "metadata": {},
   "outputs": [],
   "source": [
    "X_train=X_train.reshape(X_train.shape[0],28,28,1)\n",
    "X_test=X_test.reshape(X_test.shape[0],28,28,1)"
   ]
  },
  {
   "cell_type": "code",
   "execution_count": 63,
   "metadata": {},
   "outputs": [
    {
     "name": "stdout",
     "output_type": "stream",
     "text": [
      "(60000, 28, 28, 1)\n",
      "(10000, 28, 28, 1)\n"
     ]
    }
   ],
   "source": [
    "print(X_train.shape)\n",
    "print(X_test.shape)"
   ]
  },
  {
   "cell_type": "code",
   "execution_count": 64,
   "metadata": {},
   "outputs": [
    {
     "data": {
      "text/plain": [
       "(60000,)"
      ]
     },
     "execution_count": 64,
     "metadata": {},
     "output_type": "execute_result"
    }
   ],
   "source": [
    "y_train.shape"
   ]
  },
  {
   "cell_type": "code",
   "execution_count": 66,
   "metadata": {},
   "outputs": [
    {
     "name": "stdout",
     "output_type": "stream",
     "text": [
      "WARNING:tensorflow:From C:\\Users\\Akanksha\\AppData\\Local\\Continuum\\anaconda3\\envs\\tfdeeplearning\\lib\\site-packages\\tensorflow\\python\\keras\\_impl\\keras\\backend.py:1422: calling reduce_max (from tensorflow.python.ops.math_ops) with keep_dims is deprecated and will be removed in a future version.\n",
      "Instructions for updating:\n",
      "keep_dims is deprecated, use keepdims instead\n",
      "Train on 54000 samples, validate on 6000 samples\n",
      "Epoch 1/10\n",
      "54000/54000 [==============================]54000/54000 [==============================] - 1184s 22ms/step - loss: 0.4175 - acc: 0.8499 - val_loss: 0.3171 - val_acc: 0.8865\n",
      "\n",
      "Epoch 2/10\n",
      "54000/54000 [==============================]54000/54000 [==============================] - 1150s 21ms/step - loss: 0.2817 - acc: 0.8984 - val_loss: 0.2705 - val_acc: 0.9033\n",
      "\n",
      "Epoch 3/10\n",
      "54000/54000 [==============================]54000/54000 [==============================] - 1221s 23ms/step - loss: 0.2417 - acc: 0.9131 - val_loss: 0.2545 - val_acc: 0.9063\n",
      "\n",
      "Epoch 4/10\n",
      "54000/54000 [==============================]54000/54000 [==============================] - 1139s 21ms/step - loss: 0.2113 - acc: 0.9233 - val_loss: 0.2624 - val_acc: 0.9053\n",
      "\n",
      "Epoch 5/10\n",
      "54000/54000 [==============================]54000/54000 [==============================] - 1198s 22ms/step - loss: 0.1911 - acc: 0.9304 - val_loss: 0.2514 - val_acc: 0.9082\n",
      "\n",
      "Epoch 6/10\n",
      "54000/54000 [==============================]54000/54000 [==============================] - 1167s 22ms/step - loss: 0.1687 - acc: 0.9381 - val_loss: 0.2674 - val_acc: 0.9048\n",
      "\n",
      "Epoch 7/10\n",
      "54000/54000 [==============================]54000/54000 [==============================] - 1160s 21ms/step - loss: 0.1518 - acc: 0.9443 - val_loss: 0.2457 - val_acc: 0.9202\n",
      "\n",
      "Epoch 8/10\n",
      "54000/54000 [==============================]54000/54000 [==============================] - 1273s 24ms/step - loss: 0.1365 - acc: 0.9503 - val_loss: 0.2567 - val_acc: 0.9122\n",
      "\n",
      "Epoch 9/10\n",
      "54000/54000 [==============================]54000/54000 [==============================] - 1144s 21ms/step - loss: 0.1211 - acc: 0.9555 - val_loss: 0.2644 - val_acc: 0.9180\n",
      "\n",
      "Epoch 10/10\n",
      "54000/54000 [==============================]54000/54000 [==============================] - 1089s 20ms/step - loss: 0.1065 - acc: 0.9611 - val_loss: 0.2776 - val_acc: 0.9117\n",
      "\n"
     ]
    },
    {
     "data": {
      "text/plain": [
       "<tensorflow.python.keras._impl.keras.callbacks.History at 0x22680f8fc50>"
      ]
     },
     "execution_count": 66,
     "metadata": {},
     "output_type": "execute_result"
    }
   ],
   "source": [
    "model = Sequential()\n",
    "model.add(Conv2D(64, (5,5),input_shape=X_train.shape[1:],padding='same'))\n",
    "model.add(Activation(\"relu\"))\n",
    "model.add(MaxPooling2D(pool_size=(2,2)))\n",
    "\n",
    "model.add(Conv2D(64, (5,5), padding='same'))\n",
    "model.add(Activation(\"relu\"))\n",
    "model.add(MaxPooling2D(pool_size=(2,2)))\n",
    "\n",
    "model.add(Flatten())\n",
    "model.add(Dense(64))\n",
    "\n",
    "model.add(Dense(10))\n",
    "model.add(Activation('softmax'))\n",
    "\n",
    "\n",
    "model.compile(loss='sparse_categorical_crossentropy' , optimizer='adam' , metrics=['accuracy'])\n",
    "\n",
    "model.fit(X_train,y_train,batch_size=52,epochs=10,validation_split=0.1)\n"
   ]
  },
  {
   "cell_type": "code",
   "execution_count": 70,
   "metadata": {},
   "outputs": [
    {
     "name": "stdout",
     "output_type": "stream",
     "text": [
      "test loss: 0.2575166005462408\n",
      "test accuracy: 0.9143\n"
     ]
    }
   ],
   "source": [
    "score=model.evaluate(X_test,y_test,verbose=0)\n",
    "\n",
    "print('test loss: {}'.format(score[0]))\n",
    "print('test accuracy: {}'.format(score[1]))"
   ]
  },
  {
   "cell_type": "code",
   "execution_count": null,
   "metadata": {
    "collapsed": true
   },
   "outputs": [],
   "source": []
  }
 ],
 "metadata": {
  "kernelspec": {
   "display_name": "Python 3",
   "language": "python",
   "name": "python3"
  },
  "language_info": {
   "codemirror_mode": {
    "name": "ipython",
    "version": 3
   },
   "file_extension": ".py",
   "mimetype": "text/x-python",
   "name": "python",
   "nbconvert_exporter": "python",
   "pygments_lexer": "ipython3",
   "version": "3.5.4"
  }
 },
 "nbformat": 4,
 "nbformat_minor": 2
}
